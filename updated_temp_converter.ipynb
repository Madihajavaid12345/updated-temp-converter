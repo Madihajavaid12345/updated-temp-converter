{
  "nbformat": 4,
  "nbformat_minor": 0,
  "metadata": {
    "colab": {
      "provenance": [],
      "authorship_tag": "ABX9TyODpXoSnMj/NcgY9XRqMH7+",
      "include_colab_link": true
    },
    "kernelspec": {
      "name": "python3",
      "display_name": "Python 3"
    },
    "language_info": {
      "name": "python"
    }
  },
  "cells": [
    {
      "cell_type": "markdown",
      "metadata": {
        "id": "view-in-github",
        "colab_type": "text"
      },
      "source": [
        "<a href=\"https://colab.research.google.com/github/Madihajavaid12345/updated-temp-converter/blob/main/updated_temp_converter.ipynb\" target=\"_parent\"><img src=\"https://colab.research.google.com/assets/colab-badge.svg\" alt=\"Open In Colab\"/></a>"
      ]
    },
    {
      "cell_type": "markdown",
      "source": [],
      "metadata": {
        "id": "qXPyZoSySM61"
      }
    },
    {
      "cell_type": "code",
      "source": [
        "# Celsius to Fahrenheit Converter\n",
        "\n",
        "def celsius_to_fahrenheit(celsius):\n",
        "    return (celsius * 9/5) + 32\n",
        "\n",
        "def fahrenheit_to_celsius(fahrenheit):\n",
        "    return (fahrenheit - 32) * 5/9\n",
        "\n",
        "# User input for conversion type\n",
        "conversion_type = input(\"Choose conversion type (1: Celsius to Fahrenheit, 2: Fahrenheit to Celsius): \")\n",
        "\n",
        "if conversion_type == '1':\n",
        "    celsius_temp = float(input(\"Enter temperature in Celsius: \"))\n",
        "    if celsius_temp < -273.15:\n",
        "        print(\"Temperature cannot be below absolute zero!\")\n",
        "    else:\n",
        "        fahrenheit_temp = celsius_to_fahrenheit(celsius_temp)\n",
        "        print(f\"{celsius_temp}°C is equal to {fahrenheit_temp}°F\")\n",
        "\n",
        "elif conversion_type == '2':\n",
        "    fahrenheit_temp = float(input(\"Enter temperature in Fahrenheit: \"))\n",
        "    if fahrenheit_temp < -459.67:\n",
        "        print(\"Temperature cannot be below absolute zero!\")\n",
        "    else:\n",
        "        celsius_temp = fahrenheit_to_celsius(fahrenheit_temp)\n",
        "        print(f\"{fahrenheit_temp}°F is equal to {celsius_temp}°C\")\n",
        "\n",
        "else:\n",
        "    print(\"Invalid conversion type selected.\")\n"
      ],
      "metadata": {
        "colab": {
          "base_uri": "https://localhost:8080/"
        },
        "id": "3kPR1BKsSP1N",
        "outputId": "a081b6c0-9152-4478-8249-00f41bfa96f4"
      },
      "execution_count": 2,
      "outputs": [
        {
          "output_type": "stream",
          "name": "stdout",
          "text": [
            "Choose conversion type (1: Celsius to Fahrenheit, 2: Fahrenheit to Celsius): 1\n",
            "Enter temperature in Celsius: 345\n",
            "345.0°C is equal to 653.0°F\n"
          ]
        }
      ]
    }
  ]
}